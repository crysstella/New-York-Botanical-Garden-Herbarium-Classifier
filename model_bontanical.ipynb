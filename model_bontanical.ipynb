{
 "cells": [
  {
   "cell_type": "code",
   "execution_count": 1,
   "id": "d377c06c",
   "metadata": {
    "_cell_guid": "b1076dfc-b9ad-4769-8c92-a6c4dae69d19",
    "_uuid": "8f2839f25d086af736a60e9eeb907d3b93b6e0e5",
    "execution": {
     "iopub.execute_input": "2024-04-04T16:34:01.776777Z",
     "iopub.status.busy": "2024-04-04T16:34:01.776358Z",
     "iopub.status.idle": "2024-04-05T00:10:30.997496Z",
     "shell.execute_reply": "2024-04-05T00:10:30.995414Z"
    },
    "papermill": {
     "duration": 27389.27926,
     "end_time": "2024-04-05T00:10:31.050863",
     "exception": false,
     "start_time": "2024-04-04T16:34:01.771603",
     "status": "completed"
    },
    "tags": []
   },
   "outputs": [
    {
     "name": "stderr",
     "output_type": "stream",
     "text": [
      "2024-04-04 16:34:04.621310: E external/local_xla/xla/stream_executor/cuda/cuda_dnn.cc:9261] Unable to register cuDNN factory: Attempting to register factory for plugin cuDNN when one has already been registered\n",
      "2024-04-04 16:34:04.621445: E external/local_xla/xla/stream_executor/cuda/cuda_fft.cc:607] Unable to register cuFFT factory: Attempting to register factory for plugin cuFFT when one has already been registered\n",
      "2024-04-04 16:34:04.764461: E external/local_xla/xla/stream_executor/cuda/cuda_blas.cc:1515] Unable to register cuBLAS factory: Attempting to register factory for plugin cuBLAS when one has already been registered\n"
     ]
    },
    {
     "name": "stdout",
     "output_type": "stream",
     "text": [
      "Found 81946 validated image filenames belonging to 10 classes.\n",
      "Found 10244 validated image filenames belonging to 10 classes.\n",
      "Found 30690 validated image filenames.\n",
      "Downloading data from https://storage.googleapis.com/tensorflow/keras-applications/resnet/resnet50_weights_tf_dim_ordering_tf_kernels_notop.h5\n",
      "\u001b[1m94765736/94765736\u001b[0m \u001b[32m━━━━━━━━━━━━━━━━━━━━\u001b[0m\u001b[37m\u001b[0m \u001b[1m4s\u001b[0m 0us/step\n",
      "Epoch 1/3\n"
     ]
    },
    {
     "name": "stderr",
     "output_type": "stream",
     "text": [
      "/opt/conda/lib/python3.10/site-packages/keras/src/trainers/data_adapters/py_dataset_adapter.py:122: UserWarning: Your `PyDataset` class should call `super().__init__(**kwargs)` in its constructor. `**kwargs` can include `workers`, `use_multiprocessing`, `max_queue_size`. Do not pass these arguments to `fit()`, as they will be ignored.\n",
      "  self._warn_if_super_not_called()\n"
     ]
    },
    {
     "name": "stdout",
     "output_type": "stream",
     "text": [
      "\u001b[1m2561/2561\u001b[0m \u001b[32m━━━━━━━━━━━━━━━━━━━━\u001b[0m\u001b[37m\u001b[0m \u001b[1m8274s\u001b[0m 3s/step - accuracy: 0.8812 - loss: 1.0524 - val_accuracy: 0.9504 - val_loss: 0.2478 - learning_rate: 0.0010\n",
      "Epoch 2/3\n",
      "\u001b[1m2561/2561\u001b[0m \u001b[32m━━━━━━━━━━━━━━━━━━━━\u001b[0m\u001b[37m\u001b[0m \u001b[1m8256s\u001b[0m 3s/step - accuracy: 0.9475 - loss: 0.2640 - val_accuracy: 0.9561 - val_loss: 0.2208 - learning_rate: 0.0010\n",
      "Epoch 3/3\n",
      "\u001b[1m2561/2561\u001b[0m \u001b[32m━━━━━━━━━━━━━━━━━━━━\u001b[0m\u001b[37m\u001b[0m \u001b[1m8181s\u001b[0m 3s/step - accuracy: 0.9594 - loss: 0.2126 - val_accuracy: 0.9614 - val_loss: 0.2049 - learning_rate: 0.0010\n",
      "\u001b[1m960/960\u001b[0m \u001b[32m━━━━━━━━━━━━━━━━━━━━\u001b[0m\u001b[37m\u001b[0m \u001b[1m2451s\u001b[0m 3s/step\n",
      "Length of y_pred: 30690\n"
     ]
    }
   ],
   "source": [
    "# Imports necessary libraries and modules\n",
    "import numpy as np\n",
    "import pandas as pd\n",
    "import os\n",
    "import matplotlib.pyplot as plt\n",
    "import matplotlib.image as mpimg\n",
    "import tensorflow as tf\n",
    "from tensorflow.keras.models import Model\n",
    "from tensorflow.keras.layers import Dense, Dropout, Flatten, GlobalAveragePooling2D\n",
    "from tensorflow.keras.applications import ResNet50\n",
    "from tensorflow.keras.preprocessing.image import ImageDataGenerator\n",
    "from sklearn.metrics import accuracy_score, precision_score\n",
    "from tensorflow.keras.utils import to_categorical\n",
    "from tensorflow.keras import regularizers\n",
    "from tensorflow.keras.callbacks import ReduceLROnPlateau\n",
    "\n",
    "# Load train and validation data from CSV files\n",
    "train_data = pd.read_csv('/kaggle/input/bttai-nybg-2024/BTTAIxNYBG-train.csv')\n",
    "val_data = pd.read_csv('/kaggle/input/bttai-nybg-2024/BTTAIxNYBG-validation.csv')\n",
    "test_data = pd.read_csv('/kaggle/input/bttai-nybg-2024/BTTAIxNYBG-test.csv')\n",
    "\n",
    "# Data generators for preprocessing and augmentation\n",
    "train_datagen = ImageDataGenerator()\n",
    "val_datagen = ImageDataGenerator() \n",
    "test_datagen = ImageDataGenerator()\n",
    "\n",
    "# Sets paths for training and validation data\n",
    "train_image = '/kaggle/input/bttai-nybg-2024/BTTAIxNYBG-train/BTTAIxNYBG-train'\n",
    "test_image = '/kaggle/input/bttai-nybg-2024/BTTAIxNYBG-test/BTTAIxNYBG-test'\n",
    "val_image = '/kaggle/input/bttai-nybg-2024/BTTAIxNYBG-validation/BTTAIxNYBG-validation'\n",
    "\n",
    "# Generates batches of tensor image data for training\n",
    "train_generator = train_datagen.flow_from_dataframe(\n",
    "    dataframe=train_data,\n",
    "    directory=train_image,\n",
    "    x_col='imageFile',\n",
    "    y_col='classLabel',\n",
    "    target_size=(224, 224),\n",
    "    batch_size=32,\n",
    "    color_mode='rgb',\n",
    "    class_mode='categorical')\n",
    "\n",
    "# Generates batches of tensor image data for validation\n",
    "val_generator = val_datagen.flow_from_dataframe(\n",
    "    dataframe=val_data,\n",
    "    directory=val_image,\n",
    "    x_col='imageFile',\n",
    "    y_col='classLabel',\n",
    "    target_size=(224, 224),\n",
    "    batch_size=32,\n",
    "    color_mode='rgb',\n",
    "    class_mode='categorical')\n",
    "\n",
    "# Generates batches of tensor image data for validation\n",
    "test_generator = test_datagen.flow_from_dataframe(\n",
    "    dataframe=test_data,\n",
    "    directory=test_image,\n",
    "    x_col='imageFile',\n",
    "    y_col=None, # No label\n",
    "    class_mode=None, # No label\n",
    "    target_size=(224, 224),\n",
    "    batch_size=32,\n",
    "    color_mode='rgb',\n",
    "    shuffle=False)\n",
    "\n",
    "# Dynamically determine the number of classes based on the training data\n",
    "num_classes = len(train_generator.class_indices)\n",
    "\n",
    "# Define a learning rate scheduler\n",
    "lr_scheduler = ReduceLROnPlateau(\n",
    "    monitor='val_loss',   # Monitor the validation loss\n",
    "    factor=0.1,           # Factor by which the learning rate will be reduced (new_lr = lr * factor)\n",
    "    patience=3,           # Number of epochs with no improvement after which learning rate will be reduced\n",
    "    min_lr=1e-6,          # Minimum learning rate\n",
    "    verbose=1             # Print a message when learning rate is reduced\n",
    ")\n",
    "\n",
    "# Load the pre-trained ResNet50 model\n",
    "base_model = ResNet50(\n",
    "    weights='imagenet',\n",
    "    include_top=False,\n",
    "    input_shape=(224, 224, 3)\n",
    ")\n",
    "\n",
    "# Freeze the pre-trained layers\n",
    "base_model.trainable = False\n",
    "\n",
    "# Unfreeze the last few layers for fine-tuning\n",
    "for layer in base_model.layers[-10:]:\n",
    "    layer.trainable = True\n",
    "\n",
    "# Add new layers on top of the pre-trained model\n",
    "x = base_model.output\n",
    "x = GlobalAveragePooling2D()(x)\n",
    "x = Dense(256, activation='relu', kernel_regularizer=regularizers.l2(0.01))(x)\n",
    "x = Dropout(0.5)(x)\n",
    "outputs = Dense(num_classes, activation='softmax')(x)  # Dynamically set the number of output classes\n",
    "\n",
    "# Create the new model\n",
    "model = Model(inputs=base_model.input, outputs=outputs)\n",
    "\n",
    "# Compile the model\n",
    "model.compile(optimizer='adam', loss='categorical_crossentropy', metrics=['accuracy'])\n",
    "\n",
    "# Train the model\n",
    "history = model.fit(\n",
    "    train_generator,\n",
    "    epochs=3,  \n",
    "    validation_data=val_generator,\n",
    "    callbacks=[lr_scheduler]\n",
    ")\n",
    "\n",
    "model.save('/kaggle/working/test_model.keras')\n",
    "\n",
    "# Predict probabilities for validation set\n",
    "y_pred_prob = model.predict(test_generator)\n",
    "y_pred = np.argmax(y_pred_prob, axis=1)\n",
    "\n",
    "print(\"Length of y_pred: \" + str(len(y_pred)))\n",
    "\n",
    "submission_df = test_data\n",
    "submission_df['classID'] = y_pred\n",
    "submission_df.drop(columns=\"imageFile\", inplace=True)\n",
    "\n",
    "submission_df.to_csv('submission.csv', index=False)"
   ]
  },
  {
   "cell_type": "code",
   "execution_count": null,
   "id": "8bb1d9e7",
   "metadata": {
    "papermill": {
     "duration": 0.585275,
     "end_time": "2024-04-05T00:10:32.233212",
     "exception": false,
     "start_time": "2024-04-05T00:10:31.647937",
     "status": "completed"
    },
    "tags": []
   },
   "outputs": [],
   "source": []
  }
 ],
 "metadata": {
  "kaggle": {
   "accelerator": "none",
   "dataSources": [
    {
     "databundleVersionId": 7522884,
     "sourceId": 66199,
     "sourceType": "competition"
    }
   ],
   "dockerImageVersionId": 30673,
   "isGpuEnabled": false,
   "isInternetEnabled": true,
   "language": "python",
   "sourceType": "notebook"
  },
  "kernelspec": {
   "display_name": "Python 3",
   "language": "python",
   "name": "python3"
  },
  "language_info": {
   "codemirror_mode": {
    "name": "ipython",
    "version": 3
   },
   "file_extension": ".py",
   "mimetype": "text/x-python",
   "name": "python",
   "nbconvert_exporter": "python",
   "pygments_lexer": "ipython3",
   "version": "3.10.13"
  },
  "papermill": {
   "default_parameters": {},
   "duration": 27396.852404,
   "end_time": "2024-04-05T00:10:35.783705",
   "environment_variables": {},
   "exception": null,
   "input_path": "__notebook__.ipynb",
   "output_path": "__notebook__.ipynb",
   "parameters": {},
   "start_time": "2024-04-04T16:33:58.931301",
   "version": "2.5.0"
  }
 },
 "nbformat": 4,
 "nbformat_minor": 5
}
